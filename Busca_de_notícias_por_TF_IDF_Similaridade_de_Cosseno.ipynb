{
  "nbformat": 4,
  "nbformat_minor": 0,
  "metadata": {
    "colab": {
      "provenance": []
    },
    "kernelspec": {
      "name": "python3",
      "display_name": "Python 3"
    },
    "language_info": {
      "name": "python"
    }
  },
  "cells": [
    {
      "cell_type": "code",
      "source": [
        "import pandas as pd"
      ],
      "metadata": {
        "id": "DgIa819lr3y_"
      },
      "execution_count": null,
      "outputs": []
    },
    {
      "cell_type": "code",
      "execution_count": null,
      "metadata": {
        "colab": {
          "base_uri": "https://localhost:8080/"
        },
        "id": "Mv1XJz58rhz2",
        "outputId": "64ba6fb0-5cbc-4447-a466-adcca7c3071a"
      },
      "outputs": [
        {
          "output_type": "stream",
          "name": "stdout",
          "text": [
            "O dataframe tem 37949 linhas e 11 colunas\n"
          ]
        },
        {
          "output_type": "execute_result",
          "data": {
            "text/plain": [
              "['Index',\n",
              " 'Author',\n",
              " 'Date published',\n",
              " 'Category',\n",
              " 'Section',\n",
              " 'Url',\n",
              " 'Headline',\n",
              " 'Description',\n",
              " 'Keywords',\n",
              " 'Second headline',\n",
              " 'Article text']"
            ]
          },
          "metadata": {},
          "execution_count": 2
        }
      ],
      "source": [
        "# Carregando e lendo o dataset\n",
        "df_textos = pd.read_csv('/content/drive/MyDrive/Dataset p  TF-IDF e Similaridade de Cosseno/CNN_Articels_clean.csv')  # Insira o dataset enviado no e-mail\n",
        "df_textos.head()\n",
        "\n",
        "print(f'O dataframe tem {df_textos.shape[0]} linhas e {df_textos.shape[1]} colunas')\n",
        "\n",
        "df_textos.columns\n",
        "list(df_textos.columns)"
      ]
    },
    {
      "cell_type": "code",
      "source": [
        "#Criação de objeto para dataset em lista\n",
        "\n",
        "titulos = []\n",
        "texto = []\n",
        "\n",
        "termo_pesquisa=input('Insira o termo (em inglês) para encontrar as notícias mais relevantes ao tema (exemplo: bitcoin, Trump, US election, COVID-19): ')\n",
        "\n",
        "text_limit = 28000 #limitado para esse número para evitar o alto consumo de ram e/ou erro do arquivo.\n",
        "\n",
        "titulos.append(termo_pesquisa)\n",
        "texto.append(termo_pesquisa)\n",
        "titulos.extend(df_textos['Headline'].iloc[:text_limit].values)\n",
        "texto.extend(df_textos['Description'].iloc[:text_limit].values)"
      ],
      "metadata": {
        "colab": {
          "base_uri": "https://localhost:8080/"
        },
        "id": "KPFoYCy4rsGM",
        "outputId": "a4bf524f-cf42-48f0-a4f4-a7933f6066d9"
      },
      "execution_count": null,
      "outputs": [
        {
          "name": "stdout",
          "output_type": "stream",
          "text": [
            "Insira o termo (em inglês) para encontrar as notícias mais relevantes ao tema (exemplo: bitcoin, Trump, US election, COVID-19): US election\n"
          ]
        }
      ]
    },
    {
      "cell_type": "code",
      "source": [
        "#Panorama de TFIDF\n",
        "from sklearn.feature_extraction.text import TfidfVectorizer\n",
        "from sklearn.metrics.pairwise import cosine_similarity\n",
        "\n",
        "stopwords_adicionais = ['english', '- CNN']  # Para acionar as stopwords e o termo de exclusão\n",
        "vetor = TfidfVectorizer(stop_words=stopwords_adicionais)\n",
        "vetor.fit(texto)\n",
        "vetor.vocabulary_\n",
        "vetor_features = vetor.transform(texto)\n",
        "vetor_features_array = vetor_features.toarray()"
      ],
      "metadata": {
        "colab": {
          "base_uri": "https://localhost:8080/"
        },
        "id": "zlH9utbyrvC5",
        "outputId": "295dad03-6ccd-4559-90c2-b396eb1042e9"
      },
      "execution_count": null,
      "outputs": [
        {
          "output_type": "stream",
          "name": "stderr",
          "text": [
            "/usr/local/lib/python3.10/dist-packages/sklearn/feature_extraction/text.py:406: UserWarning: Your stop_words may be inconsistent with your preprocessing. Tokenizing the stop words generated tokens ['cnn'] not in stop_words.\n",
            "  warnings.warn(\n"
          ]
        }
      ]
    },
    {
      "cell_type": "code",
      "source": [
        "#Função para iniciar uma possível chamada à notícia com similaridade de cosseno\n",
        "import numpy\n",
        "simi_cosse = cosine_similarity(vetor_features_array, [vetor_features_array[0]])  # Calcular similaridade // Fatiamento dentro dos vetores\n",
        "lista_similaridades = simi_cosse.flatten().tolist() #transformá-los para um vetor simples e evitar erro na hora da execução // passar esses vetores para uma lista\n",
        "similar_indices = sorted(range(len(lista_similaridades)), key=lambda i: lista_similaridades[i], reverse=True)[1:6]# retorna os cinco mais similares em ordem decrescente\n",
        "\n",
        "#Linha para consulta dos valores similares mais importantes\n",
        "termos_similares = [(titulos[i], simi_cosse[i], lista_similaridades[i]) for i in similar_indices]"
      ],
      "metadata": {
        "id": "mI35aN12ry1X"
      },
      "execution_count": null,
      "outputs": []
    },
    {
      "cell_type": "code",
      "source": [
        "termos_similares"
      ],
      "metadata": {
        "colab": {
          "base_uri": "https://localhost:8080/"
        },
        "id": "Nk8s73DK9Tyz",
        "outputId": "23ec8fb0-8411-4cae-fa48-9e69e1a02129"
      },
      "execution_count": null,
      "outputs": [
        {
          "output_type": "execute_result",
          "data": {
            "text/plain": [
              "[(\"Alabama judge denies Roy Moore's complaint - CNNPolitics\",\n",
              "  array([0.36766381]),\n",
              "  0.3676638140601371),\n",
              " ('Election results: Donald Trump, MLK Jr. and the backlash against progress - CNN',\n",
              "  array([0.36174503]),\n",
              "  0.36174502536573855),\n",
              " ('Poland edges further right in election - CNN',\n",
              "  array([0.33513112]),\n",
              "  0.335131124730348),\n",
              " ('Putin registered as candidate for Russian president - CNN',\n",
              "  array([0.33417448]),\n",
              "  0.3341744822545604),\n",
              " (\"House Democrats call on Justice Department to address 'insider threats' posed by candidates who believe false election fraud claims  - CNNPolitics\",\n",
              "  array([0.32957109]),\n",
              "  0.32957109279442853)]"
            ]
          },
          "metadata": {},
          "execution_count": 6
        }
      ]
    },
    {
      "cell_type": "code",
      "source": [
        "# Retornar os textos correspondentes\n",
        "print(\"Textos mais similares:\")\n",
        "for i in similar_indices:\n",
        "    print(f\"- {titulos[i]}\")"
      ],
      "metadata": {
        "colab": {
          "base_uri": "https://localhost:8080/"
        },
        "id": "HAcwwfe9r09T",
        "outputId": "65ca9558-8e4f-444e-d853-8a24a6af901a"
      },
      "execution_count": null,
      "outputs": [
        {
          "output_type": "stream",
          "name": "stdout",
          "text": [
            "Textos mais similares:\n",
            "- Alabama judge denies Roy Moore's complaint - CNNPolitics\n",
            "- Election results: Donald Trump, MLK Jr. and the backlash against progress - CNN\n",
            "- Poland edges further right in election - CNN\n",
            "- Putin registered as candidate for Russian president - CNN\n",
            "- House Democrats call on Justice Department to address 'insider threats' posed by candidates who believe false election fraud claims  - CNNPolitics\n"
          ]
        }
      ]
    }
  ]
}